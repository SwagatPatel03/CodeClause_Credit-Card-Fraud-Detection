{
 "cells": [
  {
   "cell_type": "code",
   "execution_count": 1,
   "metadata": {},
   "outputs": [
    {
     "name": "stdout",
     "output_type": "stream",
     "text": [
      "Time      0\n",
      "V1        0\n",
      "V2        0\n",
      "V3        0\n",
      "V4        0\n",
      "V5        0\n",
      "V6        0\n",
      "V7        0\n",
      "V8        0\n",
      "V9        0\n",
      "V10       0\n",
      "V11       0\n",
      "V12       0\n",
      "V13       0\n",
      "V14       0\n",
      "V15       0\n",
      "V16       0\n",
      "V17       0\n",
      "V18       0\n",
      "V19       0\n",
      "V20       0\n",
      "V21       0\n",
      "V22       0\n",
      "V23       0\n",
      "V24       0\n",
      "V25       0\n",
      "V26       0\n",
      "V27       0\n",
      "V28       0\n",
      "Amount    0\n",
      "Class     0\n",
      "dtype: int64\n"
     ]
    }
   ],
   "source": [
    "import pandas as pd\n",
    "from sklearn.model_selection import train_test_split\n",
    "from sklearn.preprocessing import StandardScaler\n",
    "\n",
    "# Load the dataset\n",
    "df = pd.read_csv('data/creditcard.csv')\n",
    "\n",
    "# Check for missing values\n",
    "print(df.isnull().sum())\n",
    "\n",
    "# Separate features and target\n",
    "X = df.drop('Class', axis=1)\n",
    "y = df['Class']\n",
    "\n",
    "# Split the data into training and testing sets\n",
    "X_train, X_test, y_train, y_test = train_test_split(X, y, test_size=0.2, random_state=42, stratify=y)\n",
    "\n",
    "# Standardize the features\n",
    "scaler = StandardScaler()\n",
    "X_train = scaler.fit_transform(X_train)\n",
    "X_test = scaler.transform(X_test)\n"
   ]
  },
  {
   "cell_type": "code",
   "execution_count": 2,
   "metadata": {},
   "outputs": [
    {
     "name": "stdout",
     "output_type": "stream",
     "text": [
      "Accuracy: 0.9995084442259752\n",
      "ROC AUC: 0.8724226008636431\n",
      "              precision    recall  f1-score   support\n",
      "\n",
      "           0       1.00      1.00      1.00     56864\n",
      "           1       0.96      0.74      0.84        98\n",
      "\n",
      "    accuracy                           1.00     56962\n",
      "   macro avg       0.98      0.87      0.92     56962\n",
      "weighted avg       1.00      1.00      1.00     56962\n",
      "\n",
      "[[56861     3]\n",
      " [   25    73]]\n"
     ]
    },
    {
     "data": {
      "text/plain": [
       "['models/model.pkl']"
      ]
     },
     "execution_count": 2,
     "metadata": {},
     "output_type": "execute_result"
    }
   ],
   "source": [
    "from sklearn.ensemble import RandomForestClassifier\n",
    "from sklearn.metrics import classification_report, accuracy_score, roc_auc_score, confusion_matrix\n",
    "\n",
    "# Initialize the model\n",
    "rf_model = RandomForestClassifier(n_estimators=100, random_state=42, class_weight='balanced')\n",
    "\n",
    "# Train the model\n",
    "rf_model.fit(X_train, y_train)\n",
    "\n",
    "# Make predictions\n",
    "y_pred = rf_model.predict(X_test)\n",
    "\n",
    "# Evaluate the model\n",
    "print(\"Accuracy:\", accuracy_score(y_test, y_pred))\n",
    "print(\"ROC AUC:\", roc_auc_score(y_test, y_pred))\n",
    "print(classification_report(y_test, y_pred))\n",
    "print(confusion_matrix(y_test, y_pred))\n",
    "\n",
    "# Save the model\n",
    "import joblib\n",
    "joblib.dump(rf_model, 'models/model.pkl')\n"
   ]
  },
  {
   "cell_type": "code",
   "execution_count": 5,
   "metadata": {},
   "outputs": [
    {
     "name": "stdout",
     "output_type": "stream",
     "text": [
      "Sample Legitimate Transaction Input: [0.0, -1.359807134, -0.072781173, 2.536346737, 1.378155224, -0.33832077, 0.462387778, 0.239598554, 0.098697901, 0.36378697, 0.090794172, -0.551599533, -0.617800856, -0.991389847, -0.311169354, 1.468176972, -0.470400525, 0.207971242, 0.02579058, 0.40399296, 0.251412099, -0.018306778, 0.277837576, -0.11047391, 0.066928075, 0.128539358, -0.189114844, 0.133558377, 2.24503362, 149.62]\n",
      "Model Output: 0 (Expected: 0)\n",
      "\n",
      "Sample Fraudulent Transaction Input: [406.0, -2.3122265423263, 1.95199201064158, -1.60985073229769, 3.9979055875468, -0.522187864667764, -1.42654531920595, -2.53738730624579, 1.39165724829804, -2.77008927719433, -2.77227214465915, 3.20203320709635, -2.89990738849473, -0.595221881324605, -4.28925378244217, 0.389724120274487, -1.14074717980657, -2.83005567450437, -0.0168224681808257, 0.416955705037907, 0.126910559061474, 0.517232370861764, -0.0350493686052974, -0.465211076182388, 0.320198198514526, 0.0445191674731724, 0.177839798284401, 0.261145002567677, -0.143275874698919, 0.0]\n",
      "Model Output: 1 (Expected: 1)\n"
     ]
    }
   ],
   "source": [
    "import numpy as np\n",
    "import joblib\n",
    "\n",
    "# Load the trained model\n",
    "model = joblib.load('models/model.pkl')\n",
    "\n",
    "# Define some sample inputs (as numpy arrays)\n",
    "# Example of a legitimate transaction (expected output: 0)\n",
    "sample_input_legit = np.array([[0, -1.359807134, -0.072781173, 2.536346737, 1.378155224, -0.33832077, \n",
    "                                0.462387778, 0.239598554, 0.098697901, 0.36378697, 0.090794172, \n",
    "                                -0.551599533, -0.617800856, -0.991389847, -0.311169354, 1.468176972, \n",
    "                                -0.470400525, 0.207971242, 0.02579058, 0.40399296, 0.251412099, \n",
    "                                -0.018306778, 0.277837576, -0.11047391, 0.066928075, 0.128539358, \n",
    "                                -0.189114844, 0.133558377, 2.24503362, 149.62]])\n",
    "\n",
    "# Example of a fraudulent transaction (expected output: 1)\n",
    "sample_input_fraud = np.array([[406,-2.3122265423263,1.95199201064158,-1.60985073229769,3.9979055875468,\n",
    "                                -0.522187864667764,-1.42654531920595,-2.53738730624579,1.39165724829804,\n",
    "                                -2.77008927719433,-2.77227214465915,3.20203320709635,-2.89990738849473,\n",
    "                                -0.595221881324605,-4.28925378244217,0.389724120274487,-1.14074717980657,\n",
    "                                -2.83005567450437,-0.0168224681808257,0.416955705037907,0.126910559061474,\n",
    "                                0.517232370861764,-0.0350493686052974,-0.465211076182388,0.320198198514526,\n",
    "                                0.0445191674731724,0.177839798284401,0.261145002567677,-0.143275874698919,0]])\n",
    "\n",
    "# Make predictions using the model\n",
    "prediction_legit = model.predict(sample_input_legit)\n",
    "prediction_fraud = model.predict(sample_input_fraud)\n",
    "\n",
    "# Display the results\n",
    "print(f\"Sample Legitimate Transaction Input: {sample_input_legit.flatten().tolist()}\")\n",
    "print(f\"Model Output: {prediction_legit[0]}\\n\")\n",
    "\n",
    "print(f\"Sample Fraudulent Transaction Input: {sample_input_fraud.flatten().tolist()}\")\n",
    "print(f\"Model Output: {prediction_fraud[0]}\")\n"
   ]
  },
  {
   "cell_type": "code",
   "execution_count": null,
   "metadata": {},
   "outputs": [],
   "source": []
  }
 ],
 "metadata": {
  "kernelspec": {
   "display_name": "Python 3",
   "language": "python",
   "name": "python3"
  },
  "language_info": {
   "codemirror_mode": {
    "name": "ipython",
    "version": 3
   },
   "file_extension": ".py",
   "mimetype": "text/x-python",
   "name": "python",
   "nbconvert_exporter": "python",
   "pygments_lexer": "ipython3",
   "version": "3.12.4"
  }
 },
 "nbformat": 4,
 "nbformat_minor": 2
}
